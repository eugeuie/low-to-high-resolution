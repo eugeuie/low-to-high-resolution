{
 "cells": [
  {
   "cell_type": "markdown",
   "metadata": {},
   "source": [
    "### main\n"
   ]
  },
  {
   "cell_type": "code",
   "execution_count": 1,
   "metadata": {},
   "outputs": [],
   "source": [
    "import os\n",
    "import numpy as np\n",
    "import pandas as pd\n",
    "from osgeo import gdal\n",
    "from joblib import dump, load\n",
    "from sklearn.cluster import KMeans\n",
    "from image import read_image, create_image\n",
    "\n",
    "SEED = 42"
   ]
  },
  {
   "cell_type": "code",
   "execution_count": 7,
   "metadata": {},
   "outputs": [],
   "source": [
    "img_dir = \"data/images/high_resolution/SENTINEL-2B_MSI_20210511_084252/\"\n",
    "bands_filenames = [\n",
    "    \"SENTINEL-2B_MSI_20210511_084252_channel2_1.tif\",\n",
    "    \"SENTINEL-2B_MSI_20210511_084252_channel3_1.tif\",\n",
    "    \"SENTINEL-2B_MSI_20210511_084252_channel4_1.tif\",\n",
    "    \"SENTINEL-2B_MSI_20210511_084252_channel8_1.tif\",\n",
    "]\n",
    "bands_names = [\"Blue\", \"Green\", \"Red\", \"VNIR\"]\n",
    "data_path = \"data/SENTINEL-2B_MSI_20210511_084252_Blue_Red_Green_VNIR.csv\"\n",
    "kmeans_backup_path = \"data/backups/SENTINEL-2B_MSI_20210511_084252_kmeans_trained_on_Blue_Red_Green_VNIR.joblib\"\n",
    "labels_path = \"data/SENTINEL-2B_MSI_20210511_084252_kmeans_labels_trained_on_Blue_Red_Green_VNIR.csv\""
   ]
  },
  {
   "cell_type": "code",
   "execution_count": 3,
   "metadata": {},
   "outputs": [
    {
     "name": "stdout",
     "output_type": "stream",
     "text": [
      "CPU times: total: 41.2 s\n",
      "Wall time: 4min 17s\n"
     ]
    }
   ],
   "source": [
    "%%time\n",
    "\n",
    "data = pd.DataFrame(columns=bands_names)\n",
    "for band_name, band_filename in zip(bands_names, bands_filenames):\n",
    "    band_path = os.path.join(img_dir, band_filename)\n",
    "    data[band_name] = read_image(band_path)"
   ]
  },
  {
   "cell_type": "code",
   "execution_count": 4,
   "metadata": {},
   "outputs": [
    {
     "data": {
      "text/html": [
       "<div>\n",
       "<style scoped>\n",
       "    .dataframe tbody tr th:only-of-type {\n",
       "        vertical-align: middle;\n",
       "    }\n",
       "\n",
       "    .dataframe tbody tr th {\n",
       "        vertical-align: top;\n",
       "    }\n",
       "\n",
       "    .dataframe thead th {\n",
       "        text-align: right;\n",
       "    }\n",
       "</style>\n",
       "<table border=\"1\" class=\"dataframe\">\n",
       "  <thead>\n",
       "    <tr style=\"text-align: right;\">\n",
       "      <th></th>\n",
       "      <th>Blue</th>\n",
       "      <th>Green</th>\n",
       "      <th>Red</th>\n",
       "      <th>VNIR</th>\n",
       "    </tr>\n",
       "  </thead>\n",
       "  <tbody>\n",
       "    <tr>\n",
       "      <th>0</th>\n",
       "      <td>998</td>\n",
       "      <td>750</td>\n",
       "      <td>605</td>\n",
       "      <td>654</td>\n",
       "    </tr>\n",
       "    <tr>\n",
       "      <th>1</th>\n",
       "      <td>1008</td>\n",
       "      <td>746</td>\n",
       "      <td>612</td>\n",
       "      <td>682</td>\n",
       "    </tr>\n",
       "    <tr>\n",
       "      <th>2</th>\n",
       "      <td>1008</td>\n",
       "      <td>758</td>\n",
       "      <td>612</td>\n",
       "      <td>699</td>\n",
       "    </tr>\n",
       "    <tr>\n",
       "      <th>3</th>\n",
       "      <td>1016</td>\n",
       "      <td>748</td>\n",
       "      <td>610</td>\n",
       "      <td>703</td>\n",
       "    </tr>\n",
       "    <tr>\n",
       "      <th>4</th>\n",
       "      <td>1022</td>\n",
       "      <td>765</td>\n",
       "      <td>603</td>\n",
       "      <td>717</td>\n",
       "    </tr>\n",
       "    <tr>\n",
       "      <th>...</th>\n",
       "      <td>...</td>\n",
       "      <td>...</td>\n",
       "      <td>...</td>\n",
       "      <td>...</td>\n",
       "    </tr>\n",
       "    <tr>\n",
       "      <th>120560395</th>\n",
       "      <td>837</td>\n",
       "      <td>628</td>\n",
       "      <td>496</td>\n",
       "      <td>376</td>\n",
       "    </tr>\n",
       "    <tr>\n",
       "      <th>120560396</th>\n",
       "      <td>823</td>\n",
       "      <td>634</td>\n",
       "      <td>496</td>\n",
       "      <td>395</td>\n",
       "    </tr>\n",
       "    <tr>\n",
       "      <th>120560397</th>\n",
       "      <td>819</td>\n",
       "      <td>628</td>\n",
       "      <td>495</td>\n",
       "      <td>399</td>\n",
       "    </tr>\n",
       "    <tr>\n",
       "      <th>120560398</th>\n",
       "      <td>827</td>\n",
       "      <td>626</td>\n",
       "      <td>490</td>\n",
       "      <td>440</td>\n",
       "    </tr>\n",
       "    <tr>\n",
       "      <th>120560399</th>\n",
       "      <td>837</td>\n",
       "      <td>639</td>\n",
       "      <td>510</td>\n",
       "      <td>490</td>\n",
       "    </tr>\n",
       "  </tbody>\n",
       "</table>\n",
       "<p>120560400 rows × 4 columns</p>\n",
       "</div>"
      ],
      "text/plain": [
       "           Blue  Green  Red  VNIR\n",
       "0           998    750  605   654\n",
       "1          1008    746  612   682\n",
       "2          1008    758  612   699\n",
       "3          1016    748  610   703\n",
       "4          1022    765  603   717\n",
       "...         ...    ...  ...   ...\n",
       "120560395   837    628  496   376\n",
       "120560396   823    634  496   395\n",
       "120560397   819    628  495   399\n",
       "120560398   827    626  490   440\n",
       "120560399   837    639  510   490\n",
       "\n",
       "[120560400 rows x 4 columns]"
      ]
     },
     "execution_count": 4,
     "metadata": {},
     "output_type": "execute_result"
    }
   ],
   "source": [
    "data"
   ]
  },
  {
   "cell_type": "code",
   "execution_count": 5,
   "metadata": {},
   "outputs": [
    {
     "name": "stdout",
     "output_type": "stream",
     "text": [
      "CPU times: total: 3min\n",
      "Wall time: 3min 35s\n"
     ]
    }
   ],
   "source": [
    "%%time\n",
    "\n",
    "data.to_csv(data_path, index=False)"
   ]
  },
  {
   "cell_type": "code",
   "execution_count": 6,
   "metadata": {},
   "outputs": [
    {
     "data": {
      "text/plain": [
       "25"
      ]
     },
     "execution_count": 6,
     "metadata": {},
     "output_type": "execute_result"
    }
   ],
   "source": [
    "chunksize = 5000000\n",
    "chunks_number = int(np.ceil(data.shape[0] / chunksize))\n",
    "chunks_number"
   ]
  },
  {
   "cell_type": "code",
   "execution_count": 15,
   "metadata": {},
   "outputs": [
    {
     "name": "stdout",
     "output_type": "stream",
     "text": [
      "CPU times: total: 3min 27s\n",
      "Wall time: 7min 36s\n"
     ]
    }
   ],
   "source": [
    "%%time\n",
    "\n",
    "path, ext = os.path.splitext(data_path)\n",
    "for i, chunk in enumerate(pd.read_csv(data_path, chunksize=chunksize)):\n",
    "    chunk.to_csv(f\"{path}_chunk_{i}{ext}\", index=False)"
   ]
  },
  {
   "cell_type": "code",
   "execution_count": 3,
   "metadata": {},
   "outputs": [
    {
     "name": "stdout",
     "output_type": "stream",
     "text": [
      "CPU times: total: 1.27 s\n",
      "Wall time: 1.93 s\n"
     ]
    }
   ],
   "source": [
    "%%time\n",
    "\n",
    "path, ext = os.path.splitext(data_path)\n",
    "data_chunk = pd.read_csv(f\"{path}_chunk_{0}{ext}\", index_col=False)"
   ]
  },
  {
   "cell_type": "code",
   "execution_count": 4,
   "metadata": {},
   "outputs": [
    {
     "data": {
      "text/html": [
       "<div>\n",
       "<style scoped>\n",
       "    .dataframe tbody tr th:only-of-type {\n",
       "        vertical-align: middle;\n",
       "    }\n",
       "\n",
       "    .dataframe tbody tr th {\n",
       "        vertical-align: top;\n",
       "    }\n",
       "\n",
       "    .dataframe thead th {\n",
       "        text-align: right;\n",
       "    }\n",
       "</style>\n",
       "<table border=\"1\" class=\"dataframe\">\n",
       "  <thead>\n",
       "    <tr style=\"text-align: right;\">\n",
       "      <th></th>\n",
       "      <th>Blue</th>\n",
       "      <th>Green</th>\n",
       "      <th>Red</th>\n",
       "      <th>VNIR</th>\n",
       "    </tr>\n",
       "  </thead>\n",
       "  <tbody>\n",
       "    <tr>\n",
       "      <th>0</th>\n",
       "      <td>998</td>\n",
       "      <td>750</td>\n",
       "      <td>605</td>\n",
       "      <td>654</td>\n",
       "    </tr>\n",
       "    <tr>\n",
       "      <th>1</th>\n",
       "      <td>1008</td>\n",
       "      <td>746</td>\n",
       "      <td>612</td>\n",
       "      <td>682</td>\n",
       "    </tr>\n",
       "    <tr>\n",
       "      <th>2</th>\n",
       "      <td>1008</td>\n",
       "      <td>758</td>\n",
       "      <td>612</td>\n",
       "      <td>699</td>\n",
       "    </tr>\n",
       "    <tr>\n",
       "      <th>3</th>\n",
       "      <td>1016</td>\n",
       "      <td>748</td>\n",
       "      <td>610</td>\n",
       "      <td>703</td>\n",
       "    </tr>\n",
       "    <tr>\n",
       "      <th>4</th>\n",
       "      <td>1022</td>\n",
       "      <td>765</td>\n",
       "      <td>603</td>\n",
       "      <td>717</td>\n",
       "    </tr>\n",
       "    <tr>\n",
       "      <th>...</th>\n",
       "      <td>...</td>\n",
       "      <td>...</td>\n",
       "      <td>...</td>\n",
       "      <td>...</td>\n",
       "    </tr>\n",
       "    <tr>\n",
       "      <th>4999995</th>\n",
       "      <td>984</td>\n",
       "      <td>836</td>\n",
       "      <td>926</td>\n",
       "      <td>1763</td>\n",
       "    </tr>\n",
       "    <tr>\n",
       "      <th>4999996</th>\n",
       "      <td>1024</td>\n",
       "      <td>896</td>\n",
       "      <td>1074</td>\n",
       "      <td>2012</td>\n",
       "    </tr>\n",
       "    <tr>\n",
       "      <th>4999997</th>\n",
       "      <td>1039</td>\n",
       "      <td>930</td>\n",
       "      <td>1174</td>\n",
       "      <td>2094</td>\n",
       "    </tr>\n",
       "    <tr>\n",
       "      <th>4999998</th>\n",
       "      <td>1055</td>\n",
       "      <td>959</td>\n",
       "      <td>1182</td>\n",
       "      <td>2245</td>\n",
       "    </tr>\n",
       "    <tr>\n",
       "      <th>4999999</th>\n",
       "      <td>1016</td>\n",
       "      <td>905</td>\n",
       "      <td>1068</td>\n",
       "      <td>2104</td>\n",
       "    </tr>\n",
       "  </tbody>\n",
       "</table>\n",
       "<p>5000000 rows × 4 columns</p>\n",
       "</div>"
      ],
      "text/plain": [
       "         Blue  Green   Red  VNIR\n",
       "0         998    750   605   654\n",
       "1        1008    746   612   682\n",
       "2        1008    758   612   699\n",
       "3        1016    748   610   703\n",
       "4        1022    765   603   717\n",
       "...       ...    ...   ...   ...\n",
       "4999995   984    836   926  1763\n",
       "4999996  1024    896  1074  2012\n",
       "4999997  1039    930  1174  2094\n",
       "4999998  1055    959  1182  2245\n",
       "4999999  1016    905  1068  2104\n",
       "\n",
       "[5000000 rows x 4 columns]"
      ]
     },
     "execution_count": 4,
     "metadata": {},
     "output_type": "execute_result"
    }
   ],
   "source": [
    "data_chunk"
   ]
  },
  {
   "cell_type": "code",
   "execution_count": 3,
   "metadata": {},
   "outputs": [
    {
     "name": "stdout",
     "output_type": "stream",
     "text": [
      "CPU times: total: 59.1 s\n",
      "Wall time: 1min 9s\n"
     ]
    }
   ],
   "source": [
    "%%time\n",
    "\n",
    "data = pd.read_csv(data_path, index_col=False)"
   ]
  },
  {
   "cell_type": "code",
   "execution_count": 4,
   "metadata": {},
   "outputs": [
    {
     "data": {
      "text/html": [
       "<div>\n",
       "<style scoped>\n",
       "    .dataframe tbody tr th:only-of-type {\n",
       "        vertical-align: middle;\n",
       "    }\n",
       "\n",
       "    .dataframe tbody tr th {\n",
       "        vertical-align: top;\n",
       "    }\n",
       "\n",
       "    .dataframe thead th {\n",
       "        text-align: right;\n",
       "    }\n",
       "</style>\n",
       "<table border=\"1\" class=\"dataframe\">\n",
       "  <thead>\n",
       "    <tr style=\"text-align: right;\">\n",
       "      <th></th>\n",
       "      <th>Blue</th>\n",
       "      <th>Green</th>\n",
       "      <th>Red</th>\n",
       "      <th>VNIR</th>\n",
       "    </tr>\n",
       "  </thead>\n",
       "  <tbody>\n",
       "    <tr>\n",
       "      <th>0</th>\n",
       "      <td>998</td>\n",
       "      <td>750</td>\n",
       "      <td>605</td>\n",
       "      <td>654</td>\n",
       "    </tr>\n",
       "    <tr>\n",
       "      <th>1</th>\n",
       "      <td>1008</td>\n",
       "      <td>746</td>\n",
       "      <td>612</td>\n",
       "      <td>682</td>\n",
       "    </tr>\n",
       "    <tr>\n",
       "      <th>2</th>\n",
       "      <td>1008</td>\n",
       "      <td>758</td>\n",
       "      <td>612</td>\n",
       "      <td>699</td>\n",
       "    </tr>\n",
       "    <tr>\n",
       "      <th>3</th>\n",
       "      <td>1016</td>\n",
       "      <td>748</td>\n",
       "      <td>610</td>\n",
       "      <td>703</td>\n",
       "    </tr>\n",
       "    <tr>\n",
       "      <th>4</th>\n",
       "      <td>1022</td>\n",
       "      <td>765</td>\n",
       "      <td>603</td>\n",
       "      <td>717</td>\n",
       "    </tr>\n",
       "    <tr>\n",
       "      <th>...</th>\n",
       "      <td>...</td>\n",
       "      <td>...</td>\n",
       "      <td>...</td>\n",
       "      <td>...</td>\n",
       "    </tr>\n",
       "    <tr>\n",
       "      <th>120560395</th>\n",
       "      <td>837</td>\n",
       "      <td>628</td>\n",
       "      <td>496</td>\n",
       "      <td>376</td>\n",
       "    </tr>\n",
       "    <tr>\n",
       "      <th>120560396</th>\n",
       "      <td>823</td>\n",
       "      <td>634</td>\n",
       "      <td>496</td>\n",
       "      <td>395</td>\n",
       "    </tr>\n",
       "    <tr>\n",
       "      <th>120560397</th>\n",
       "      <td>819</td>\n",
       "      <td>628</td>\n",
       "      <td>495</td>\n",
       "      <td>399</td>\n",
       "    </tr>\n",
       "    <tr>\n",
       "      <th>120560398</th>\n",
       "      <td>827</td>\n",
       "      <td>626</td>\n",
       "      <td>490</td>\n",
       "      <td>440</td>\n",
       "    </tr>\n",
       "    <tr>\n",
       "      <th>120560399</th>\n",
       "      <td>837</td>\n",
       "      <td>639</td>\n",
       "      <td>510</td>\n",
       "      <td>490</td>\n",
       "    </tr>\n",
       "  </tbody>\n",
       "</table>\n",
       "<p>120560400 rows × 4 columns</p>\n",
       "</div>"
      ],
      "text/plain": [
       "           Blue  Green  Red  VNIR\n",
       "0           998    750  605   654\n",
       "1          1008    746  612   682\n",
       "2          1008    758  612   699\n",
       "3          1016    748  610   703\n",
       "4          1022    765  603   717\n",
       "...         ...    ...  ...   ...\n",
       "120560395   837    628  496   376\n",
       "120560396   823    634  496   395\n",
       "120560397   819    628  495   399\n",
       "120560398   827    626  490   440\n",
       "120560399   837    639  510   490\n",
       "\n",
       "[120560400 rows x 4 columns]"
      ]
     },
     "execution_count": 4,
     "metadata": {},
     "output_type": "execute_result"
    }
   ],
   "source": [
    "data"
   ]
  },
  {
   "cell_type": "code",
   "execution_count": 5,
   "metadata": {},
   "outputs": [
    {
     "name": "stdout",
     "output_type": "stream",
     "text": [
      "CPU times: total: 5h 19min 57s\n",
      "Wall time: 5h 16min 55s\n"
     ]
    }
   ],
   "source": [
    "%%time\n",
    "\n",
    "kmeans = KMeans(n_clusters=20, random_state=SEED).fit(data)"
   ]
  },
  {
   "cell_type": "code",
   "execution_count": 12,
   "metadata": {},
   "outputs": [
    {
     "name": "stdout",
     "output_type": "stream",
     "text": [
      "CPU times: total: 453 ms\n",
      "Wall time: 514 ms\n"
     ]
    },
    {
     "data": {
      "text/plain": [
       "['data/backups/SENTINEL-2B_MSI_20210511_084252_kmeans_trained_on_Blue_Red_Green_VNIR.joblib']"
      ]
     },
     "execution_count": 12,
     "metadata": {},
     "output_type": "execute_result"
    }
   ],
   "source": [
    "%%time\n",
    "\n",
    "dump(kmeans, kmeans_backup_path)\n",
    "# kmeans = load(kmeans_backup_path)"
   ]
  },
  {
   "cell_type": "code",
   "execution_count": 8,
   "metadata": {},
   "outputs": [],
   "source": [
    "kmeans_labels = pd.Series(kmeans.labels_)"
   ]
  },
  {
   "cell_type": "code",
   "execution_count": 9,
   "metadata": {},
   "outputs": [
    {
     "data": {
      "text/plain": [
       "0            3\n",
       "1            3\n",
       "2            3\n",
       "3            3\n",
       "4            3\n",
       "            ..\n",
       "120560395    9\n",
       "120560396    9\n",
       "120560397    9\n",
       "120560398    9\n",
       "120560399    9\n",
       "Length: 120560400, dtype: int32"
      ]
     },
     "execution_count": 9,
     "metadata": {},
     "output_type": "execute_result"
    }
   ],
   "source": [
    "kmeans_labels"
   ]
  },
  {
   "cell_type": "code",
   "execution_count": 10,
   "metadata": {},
   "outputs": [
    {
     "name": "stdout",
     "output_type": "stream",
     "text": [
      "CPU times: total: 1min 59s\n",
      "Wall time: 2min 4s\n"
     ]
    }
   ],
   "source": [
    "%%time\n",
    "\n",
    "kmeans_labels.to_csv(labels_path, index=False)"
   ]
  },
  {
   "cell_type": "code",
   "execution_count": null,
   "metadata": {},
   "outputs": [],
   "source": []
  },
  {
   "cell_type": "code",
   "execution_count": 11,
   "metadata": {},
   "outputs": [
    {
     "name": "stdout",
     "output_type": "stream",
     "text": [
      "CPU times: total: 0 ns\n",
      "Wall time: 0 ns\n"
     ]
    },
    {
     "data": {
      "text/plain": [
       "(5000000,)"
      ]
     },
     "execution_count": 11,
     "metadata": {},
     "output_type": "execute_result"
    }
   ],
   "source": [
    "%%time\n",
    "\n",
    "sample_img_path = os.path.join(img_dir, bands_filenames[0])\n",
    "path, ext = os.path.splitext(labels_path)\n",
    "img_path = f\"{path}.tif\"\n",
    "sample_img = gdal.Open(sample_img_path, gdal.GA_ReadOnly)\n",
    "driver = sample_img.GetDriver()\n",
    "x_size, y_size = sample_img.RasterXSize, sample_img.RasterYSize\n",
    "img = driver.Create(img_path, x_size, y_size, 1, gdal.GDT_UInt16)\n",
    "img.SetGeoTransform(sample_img.GetGeoTransform())\n",
    "img.SetProjection(sample_img.GetProjection())\n",
    "img.GetRasterBand(1).Fill(0)\n",
    "band = img.GetRasterBand(1)\n",
    "raster = np.zeros((y_size, x_size), dtype=np.uint8)\n",
    "for y in y_size:\n",
    "    for x in x_size:\n",
    "        raster[y][x] = value[0]\n",
    "band.WriteArray(raster)\n",
    "img = band = None"
   ]
  },
  {
   "cell_type": "code",
   "execution_count": 35,
   "metadata": {},
   "outputs": [
    {
     "name": "stdout",
     "output_type": "stream",
     "text": [
      "CPU times: total: 53.5 s\n",
      "Wall time: 1min 19s\n"
     ]
    }
   ],
   "source": [
    "\n",
    "\n",
    "for band_name, band_filename in zip(bands_names, bands_filenames):\n",
    "    band_path = os.path.join(IMG_DIR, band_filename)\n",
    "    band_img = gdal.Open(band_path, gdal.GA_ReadOnly)\n",
    "\n",
    "    x_size, y_size = band_img.RasterXSize, band_img.RasterYSize\n",
    "\n",
    "    band = band_img.GetRasterBand(1)\n",
    "    band_data = band.ReadAsArray(0, 0, x_size, y_size)\n",
    "\n",
    "    band_col = band_data.ravel()\n",
    "    data[band_name] = band_col\n",
    "\n",
    "    band_img = band = band_col = None"
   ]
  },
  {
   "cell_type": "code",
   "execution_count": 36,
   "metadata": {},
   "outputs": [
    {
     "data": {
      "text/html": [
       "<div>\n",
       "<style scoped>\n",
       "    .dataframe tbody tr th:only-of-type {\n",
       "        vertical-align: middle;\n",
       "    }\n",
       "\n",
       "    .dataframe tbody tr th {\n",
       "        vertical-align: top;\n",
       "    }\n",
       "\n",
       "    .dataframe thead th {\n",
       "        text-align: right;\n",
       "    }\n",
       "</style>\n",
       "<table border=\"1\" class=\"dataframe\">\n",
       "  <thead>\n",
       "    <tr style=\"text-align: right;\">\n",
       "      <th></th>\n",
       "      <th>Blue</th>\n",
       "      <th>Green</th>\n",
       "      <th>Red</th>\n",
       "      <th>VNIR</th>\n",
       "    </tr>\n",
       "  </thead>\n",
       "  <tbody>\n",
       "    <tr>\n",
       "      <th>0</th>\n",
       "      <td>998</td>\n",
       "      <td>750</td>\n",
       "      <td>605</td>\n",
       "      <td>654</td>\n",
       "    </tr>\n",
       "    <tr>\n",
       "      <th>1</th>\n",
       "      <td>1008</td>\n",
       "      <td>746</td>\n",
       "      <td>612</td>\n",
       "      <td>682</td>\n",
       "    </tr>\n",
       "    <tr>\n",
       "      <th>2</th>\n",
       "      <td>1008</td>\n",
       "      <td>758</td>\n",
       "      <td>612</td>\n",
       "      <td>699</td>\n",
       "    </tr>\n",
       "    <tr>\n",
       "      <th>3</th>\n",
       "      <td>1016</td>\n",
       "      <td>748</td>\n",
       "      <td>610</td>\n",
       "      <td>703</td>\n",
       "    </tr>\n",
       "    <tr>\n",
       "      <th>4</th>\n",
       "      <td>1022</td>\n",
       "      <td>765</td>\n",
       "      <td>603</td>\n",
       "      <td>717</td>\n",
       "    </tr>\n",
       "    <tr>\n",
       "      <th>...</th>\n",
       "      <td>...</td>\n",
       "      <td>...</td>\n",
       "      <td>...</td>\n",
       "      <td>...</td>\n",
       "    </tr>\n",
       "    <tr>\n",
       "      <th>120560395</th>\n",
       "      <td>837</td>\n",
       "      <td>628</td>\n",
       "      <td>496</td>\n",
       "      <td>376</td>\n",
       "    </tr>\n",
       "    <tr>\n",
       "      <th>120560396</th>\n",
       "      <td>823</td>\n",
       "      <td>634</td>\n",
       "      <td>496</td>\n",
       "      <td>395</td>\n",
       "    </tr>\n",
       "    <tr>\n",
       "      <th>120560397</th>\n",
       "      <td>819</td>\n",
       "      <td>628</td>\n",
       "      <td>495</td>\n",
       "      <td>399</td>\n",
       "    </tr>\n",
       "    <tr>\n",
       "      <th>120560398</th>\n",
       "      <td>827</td>\n",
       "      <td>626</td>\n",
       "      <td>490</td>\n",
       "      <td>440</td>\n",
       "    </tr>\n",
       "    <tr>\n",
       "      <th>120560399</th>\n",
       "      <td>837</td>\n",
       "      <td>639</td>\n",
       "      <td>510</td>\n",
       "      <td>490</td>\n",
       "    </tr>\n",
       "  </tbody>\n",
       "</table>\n",
       "<p>120560400 rows × 4 columns</p>\n",
       "</div>"
      ],
      "text/plain": [
       "           Blue  Green  Red  VNIR\n",
       "0           998    750  605   654\n",
       "1          1008    746  612   682\n",
       "2          1008    758  612   699\n",
       "3          1016    748  610   703\n",
       "4          1022    765  603   717\n",
       "...         ...    ...  ...   ...\n",
       "120560395   837    628  496   376\n",
       "120560396   823    634  496   395\n",
       "120560397   819    628  495   399\n",
       "120560398   827    626  490   440\n",
       "120560399   837    639  510   490\n",
       "\n",
       "[120560400 rows x 4 columns]"
      ]
     },
     "execution_count": 36,
     "metadata": {},
     "output_type": "execute_result"
    }
   ],
   "source": [
    "data\n"
   ]
  },
  {
   "cell_type": "code",
   "execution_count": 37,
   "metadata": {},
   "outputs": [
    {
     "name": "stdout",
     "output_type": "stream",
     "text": [
      "CPU times: total: 3min 35s\n",
      "Wall time: 3min 52s\n"
     ]
    }
   ],
   "source": [
    "%%time\n",
    "\n",
    "data.to_csv('data/SENTINEL-2B_MSI_20210511_084252_Blue_Red_Green_VNIR.csv', index=False)"
   ]
  },
  {
   "cell_type": "code",
   "execution_count": null,
   "metadata": {},
   "outputs": [],
   "source": [
    "%%time\n",
    "\n",
    "data = pd.read_csv('data/SENTINEL-2B_MSI_20210511_084252_kmeans_labels_trained_on_Blue_Red_Green_VNIR.csv', index_col=False, dtype=np.uint8)"
   ]
  },
  {
   "cell_type": "code",
   "execution_count": 39,
   "metadata": {},
   "outputs": [
    {
     "name": "stdout",
     "output_type": "stream",
     "text": [
      "CPU times: total: 4h 38min 36s\n",
      "Wall time: 5h 15min 1s\n"
     ]
    }
   ],
   "source": [
    "%%time\n",
    "\n",
    "kmeans = KMeans(n_clusters=20, random_state=SEED).fit(data)"
   ]
  },
  {
   "cell_type": "code",
   "execution_count": 40,
   "metadata": {},
   "outputs": [
    {
     "data": {
      "text/plain": [
       "array([3, 3, 3, ..., 9, 9, 9])"
      ]
     },
     "execution_count": 40,
     "metadata": {},
     "output_type": "execute_result"
    }
   ],
   "source": [
    "kmeans.labels_\n"
   ]
  },
  {
   "cell_type": "code",
   "execution_count": 23,
   "metadata": {},
   "outputs": [
    {
     "ename": "FileNotFoundError",
     "evalue": "[Errno 2] No such file or directory: 'data/backups/rf_fitted_on_data_train.joblib'",
     "output_type": "error",
     "traceback": [
      "\u001b[1;31m---------------------------------------------------------------------------\u001b[0m",
      "\u001b[1;31mFileNotFoundError\u001b[0m                         Traceback (most recent call last)",
      "\u001b[1;32mc:\\Data\\Projects\\low-to-high-resolution\\low_to_high_resolution.ipynb Cell 11\u001b[0m in \u001b[0;36m<cell line: 2>\u001b[1;34m()\u001b[0m\n\u001b[0;32m      <a href='vscode-notebook-cell:/c%3A/Data/Projects/low-to-high-resolution/low_to_high_resolution.ipynb#X43sZmlsZQ%3D%3D?line=0'>1</a>\u001b[0m \u001b[39m# dump(rf, 'data/backups/rf_fitted_on_data_train.joblib')\u001b[39;00m\n\u001b[1;32m----> <a href='vscode-notebook-cell:/c%3A/Data/Projects/low-to-high-resolution/low_to_high_resolution.ipynb#X43sZmlsZQ%3D%3D?line=1'>2</a>\u001b[0m rf \u001b[39m=\u001b[39m load(\u001b[39m'\u001b[39;49m\u001b[39mdata/backups/rf_fitted_on_data_train.joblib\u001b[39;49m\u001b[39m'\u001b[39;49m)\n",
      "File \u001b[1;32mc:\\Data\\Projects\\low-to-high-resolution\\venv\\lib\\site-packages\\joblib\\numpy_pickle.py:579\u001b[0m, in \u001b[0;36mload\u001b[1;34m(filename, mmap_mode)\u001b[0m\n\u001b[0;32m    577\u001b[0m         obj \u001b[39m=\u001b[39m _unpickle(fobj)\n\u001b[0;32m    578\u001b[0m \u001b[39melse\u001b[39;00m:\n\u001b[1;32m--> 579\u001b[0m     \u001b[39mwith\u001b[39;00m \u001b[39mopen\u001b[39;49m(filename, \u001b[39m'\u001b[39;49m\u001b[39mrb\u001b[39;49m\u001b[39m'\u001b[39;49m) \u001b[39mas\u001b[39;00m f:\n\u001b[0;32m    580\u001b[0m         \u001b[39mwith\u001b[39;00m _read_fileobject(f, filename, mmap_mode) \u001b[39mas\u001b[39;00m fobj:\n\u001b[0;32m    581\u001b[0m             \u001b[39mif\u001b[39;00m \u001b[39misinstance\u001b[39m(fobj, \u001b[39mstr\u001b[39m):\n\u001b[0;32m    582\u001b[0m                 \u001b[39m# if the returned file object is a string, this means we\u001b[39;00m\n\u001b[0;32m    583\u001b[0m                 \u001b[39m# try to load a pickle file generated with an version of\u001b[39;00m\n\u001b[0;32m    584\u001b[0m                 \u001b[39m# Joblib so we load it with joblib compatibility function.\u001b[39;00m\n",
      "\u001b[1;31mFileNotFoundError\u001b[0m: [Errno 2] No such file or directory: 'data/backups/rf_fitted_on_data_train.joblib'"
     ]
    }
   ],
   "source": [
    "dump(kmeans, kmeans_backup_path)\n",
    "# rf = load(kmeans_backup_path)\n"
   ]
  },
  {
   "cell_type": "code",
   "execution_count": 41,
   "metadata": {},
   "outputs": [
    {
     "name": "stdout",
     "output_type": "stream",
     "text": [
      "CPU times: total: 3min 32s\n",
      "Wall time: 3min 58s\n"
     ]
    }
   ],
   "source": [
    "%%time\n",
    "\n",
    "data.to_csv('data/SENTINEL-2B_MSI_20210511_084252_kmeans_labels_trained_on_Blue_Red_Green_VNIR.csv', index=False)"
   ]
  },
  {
   "cell_type": "code",
   "execution_count": 6,
   "metadata": {},
   "outputs": [
    {
     "name": "stdout",
     "output_type": "stream",
     "text": [
      "CPU times: total: 31.2 s\n",
      "Wall time: 1min 40s\n"
     ]
    }
   ],
   "source": [
    "%%time\n",
    "\n",
    "kmeans_labels = pd.read_csv('data/SENTINEL-2B_MSI_20210511_084252_kmeans_labels_trained_on_Blue_Red_Green_VNIR.csv', index_col=False, dtype=np.uint8)"
   ]
  },
  {
   "cell_type": "code",
   "execution_count": 7,
   "metadata": {},
   "outputs": [
    {
     "name": "stdout",
     "output_type": "stream",
     "text": [
      "CPU times: total: 141 ms\n",
      "Wall time: 6.08 s\n"
     ]
    }
   ],
   "source": [
    "%%time\n",
    "\n",
    "sample_path = os.path.join(IMG_DIR, bands_filenames[0])\n",
    "sample_img = gdal.Open(sample_path, gdal.GA_ReadOnly)\n",
    "\n",
    "output_path = os.path.join(IMG_DIR, 'kmeans_labels_trained_on_Blue_Red_Green_VNIR.img')\n",
    "driver = sample_img.GetDriver()\n",
    "output_img = driver.Create(output_path, sample_img.RasterXSize, sample_img.RasterYSize, 1, gdal.GDT_UInt16)\n",
    "\n",
    "output_img.SetGeoTransform(sample_img.GetGeoTransform())\n",
    "output_img.SetProjection(sample_img.GetProjection())\n",
    "output_img.GetRasterBand(1).Fill(0)\n",
    "\n",
    "output_band = output_img.GetRasterBand(1)"
   ]
  },
  {
   "cell_type": "code",
   "execution_count": 8,
   "metadata": {},
   "outputs": [
    {
     "name": "stdout",
     "output_type": "stream",
     "text": [
      "CPU times: total: 0 ns\n",
      "Wall time: 0 ns\n"
     ]
    }
   ],
   "source": [
    "%%time\n",
    "\n",
    "x_size, y_size = sample_img.RasterXSize, sample_img.RasterYSize\n",
    "raster = np.zeros((y_size, x_size), dtype=np.uint8)"
   ]
  },
  {
   "cell_type": "code",
   "execution_count": 11,
   "metadata": {},
   "outputs": [],
   "source": [
    "kmeans_labels = np.array(kmeans_labels)\n"
   ]
  },
  {
   "cell_type": "code",
   "execution_count": 12,
   "metadata": {},
   "outputs": [
    {
     "data": {
      "text/plain": [
       "array([[230, 238,  93, 142],\n",
       "       [240, 234, 100, 170],\n",
       "       [240, 246, 100, 187],\n",
       "       ...,\n",
       "       [ 51, 116, 239, 143],\n",
       "       [ 59, 114, 234, 184],\n",
       "       [ 69, 127, 254, 234]], dtype=uint8)"
      ]
     },
     "execution_count": 12,
     "metadata": {},
     "output_type": "execute_result"
    }
   ],
   "source": [
    "kmeans_labels\n"
   ]
  },
  {
   "cell_type": "code",
   "execution_count": 13,
   "metadata": {},
   "outputs": [
    {
     "ename": "ValueError",
     "evalue": "setting an array element with a sequence.",
     "output_type": "error",
     "traceback": [
      "\u001b[1;31m---------------------------------------------------------------------------\u001b[0m",
      "\u001b[1;31mTypeError\u001b[0m                                 Traceback (most recent call last)",
      "\u001b[1;31mTypeError\u001b[0m: only size-1 arrays can be converted to Python scalars",
      "\nThe above exception was the direct cause of the following exception:\n",
      "\u001b[1;31mValueError\u001b[0m                                Traceback (most recent call last)",
      "File \u001b[1;32m<timed exec>:2\u001b[0m, in \u001b[0;36m<module>\u001b[1;34m\u001b[0m\n",
      "\u001b[1;31mValueError\u001b[0m: setting an array element with a sequence."
     ]
    }
   ],
   "source": [
    "%%time\n",
    "\n",
    "for y, x, kmeans_label in zip(list(range(y_size)), list(range(x_size)), kmeans_labels):\n",
    "    raster[y][x] = kmeans_label"
   ]
  },
  {
   "cell_type": "code",
   "execution_count": null,
   "metadata": {},
   "outputs": [],
   "source": [
    "%%time\n",
    "\n",
    "output_band.WriteArray(raster)\n",
    "output_img = None\n",
    "output_band = None"
   ]
  },
  {
   "cell_type": "code",
   "execution_count": null,
   "metadata": {},
   "outputs": [],
   "source": [
    "[\n",
    "    \"channel2\",\n",
    "    \"channel3\",\n",
    "    \"channel4\",\n",
    "    \"channel8_\",\n",
    "]\n"
   ]
  },
  {
   "cell_type": "code",
   "execution_count": 12,
   "metadata": {},
   "outputs": [
    {
     "name": "stdout",
     "output_type": "stream",
     "text": [
      "SENTINEL-2B_MSI_20210325_085404 ['SENTINEL-2B_MSI_20210325_085404_channel2_1.tif', 'SENTINEL-2B_MSI_20210325_085404_channel3_1.tif', 'SENTINEL-2B_MSI_20210325_085404_channel4_1.tif', 'SENTINEL-2B_MSI_20210325_085404_channel8_1.tif']\n",
      "SENTINEL-2B_MSI_20190425_085420 ['SENTINEL-2B_MSI_20190425_085420_channel2_1.tif', 'SENTINEL-2B_MSI_20190425_085420_channel3_1.tif', 'SENTINEL-2B_MSI_20190425_085420_channel4_1.tif', 'SENTINEL-2B_MSI_20190425_085420_channel8_1.tif']\n",
      "SENTINEL-2B_MSI_20210511_084252 ['SENTINEL-2B_MSI_20210511_084252_channel2_1.tif', 'SENTINEL-2B_MSI_20210511_084252_channel3_1.tif', 'SENTINEL-2B_MSI_20210511_084252_channel4_1.tif', 'SENTINEL-2B_MSI_20210511_084252_channel8_1.tif']\n",
      "SENTINEL-2B_MSI_20211008_084414 ['SENTINEL-2B_MSI_20211008_084414_channel2_1.tif', 'SENTINEL-2B_MSI_20211008_084414_channel3_1.tif', 'SENTINEL-2B_MSI_20211008_084414_channel4_1.tif', 'SENTINEL-2B_MSI_20211008_084414_channel8_1.tif']\n",
      "SENTINEL-2A_MSI_20201117_084357 ['SENTINEL-2A_MSI_20201117_084357_channel2_1.tif', 'SENTINEL-2A_MSI_20201117_084357_channel3_1.tif', 'SENTINEL-2A_MSI_20201117_084357_channel4_1.tif', 'SENTINEL-2A_MSI_20201117_084357_channel8_1.tif']\n"
     ]
    }
   ],
   "source": [
    "for img in sentinel_imgs:\n",
    "    img_path = os.path.join(HIGH_RES_IMG_DIR, img)\n",
    "    bands_filenames = list(\n",
    "        filter(\n",
    "            lambda x: any(band_name in x for band_name in bands_names),\n",
    "            os.listdir(img_path),\n",
    "        )\n",
    "    )\n",
    "    print(img, bands_filenames)\n"
   ]
  },
  {
   "cell_type": "code",
   "execution_count": null,
   "metadata": {},
   "outputs": [],
   "source": []
  },
  {
   "cell_type": "code",
   "execution_count": 2,
   "metadata": {},
   "outputs": [],
   "source": [
    "DATA_DIR = \"data/\"\n",
    "IMG_DIR = \"data/images/\"\n",
    "LOW_RES_IMG_DIR = \"data/images/low_resolution/\"\n",
    "HIGH_RES_IMG_DIR = \"data/images/high_resolution/\"\n",
    "\n",
    "sentinel_imgs = [\n",
    "    \"SENTINEL-2B_MSI_20210325_085404\",\n",
    "    \"SENTINEL-2B_MSI_20190425_085420\",\n",
    "    \"SENTINEL-2B_MSI_20210511_084252\",\n",
    "    \"SENTINEL-2B_MSI_20211008_084414\",\n",
    "    \"SENTINEL-2A_MSI_20201117_084357\",\n",
    "]\n",
    "\n",
    "bands_names = [\n",
    "    \"channel2\",\n",
    "    \"channel3\",\n",
    "    \"channel4\",\n",
    "    \"channel8_\",\n",
    "]\n"
   ]
  },
  {
   "cell_type": "code",
   "execution_count": null,
   "metadata": {},
   "outputs": [],
   "source": [
    "%%time\n",
    "\n",
    "for band_filename in bands_filenames:\n",
    "    band_path = os.path.join(img_path, band_filename)\n",
    "    band = gdal.Open(band_path, gdal.GA_ReadOnly)\n",
    "    geotransform = band.GetGeoTransform()\n",
    "    name = band_filename[-9:-6]\n",
    "    x_size, y_size = band.RasterXSize, band.RasterYSize\n",
    "    top_left_x, top_left_y = geotransform[0], geotransform[3]\n",
    "    pixel_width, pixel_height = geotransform[1], geotransform[5]\n",
    "    rotation_1, rotation_2 = geotransform[2], geotransform[4]\n",
    "    print(f\"name: {name}, size: {x_size}x{y_size}, origin: ({top_left_x}, {top_left_y}), pixel size: {pixel_width}x{pixel_height}, rotation: ({rotation_1}, {rotation_2})\")"
   ]
  },
  {
   "cell_type": "markdown",
   "metadata": {},
   "source": [
    "### auxiliary\n"
   ]
  },
  {
   "cell_type": "code",
   "execution_count": 5,
   "metadata": {},
   "outputs": [
    {
     "data": {
      "text/plain": [
       "['LANDSAT_8_OLI_TIRS_20210604_082849',\n",
       " 'LANDSAT_8_OLI_TIRS_20210706_082857',\n",
       " 'SENTINEL-2A_MSI_20200901_053433',\n",
       " 'SENTINEL-2A_MSI_20200921_053434',\n",
       " 'SENTINEL-2A_MSI_20201117_084357',\n",
       " 'SENTINEL-2A_MSI_20210327_052418',\n",
       " 'SENTINEL-2A_MSI_20220524_053423',\n",
       " 'SENTINEL-2B_MSI_20190425_085420',\n",
       " 'SENTINEL-2B_MSI_20190813_053920',\n",
       " 'SENTINEL-2B_MSI_20210325_085404',\n",
       " 'SENTINEL-2B_MSI_20210511_084252',\n",
       " 'SENTINEL-2B_MSI_20210531_052344',\n",
       " 'SENTINEL-2B_MSI_20210703_053405',\n",
       " 'SENTINEL-2B_MSI_20211008_084414']"
      ]
     },
     "execution_count": 5,
     "metadata": {},
     "output_type": "execute_result"
    }
   ],
   "source": [
    "os.listdir(HIGH_RES_IMG_DIR)\n"
   ]
  },
  {
   "cell_type": "code",
   "execution_count": 6,
   "metadata": {},
   "outputs": [
    {
     "data": {
      "text/plain": [
       "['2010-05-01.img',\n",
       " '2010-05-02.img',\n",
       " '2010-05-03.img',\n",
       " '2010-07-01.img',\n",
       " '2010-07-02.img',\n",
       " '2010-07-03.img',\n",
       " '2010-09-01.img',\n",
       " '2010-09-02.img',\n",
       " '2010-09-03.img',\n",
       " 'lccswm2010_4.img',\n",
       " 'priv_mod_v10_2011layer1.img',\n",
       " 'priv_mod_v10_2011layer2.img']"
      ]
     },
     "execution_count": 6,
     "metadata": {},
     "output_type": "execute_result"
    }
   ],
   "source": [
    "list(filter(lambda x: x.endswith(\".img\"), os.listdir(LOW_RES_IMG_DIR)))\n"
   ]
  },
  {
   "cell_type": "code",
   "execution_count": 16,
   "metadata": {},
   "outputs": [
    {
     "data": {
      "text/plain": [
       "['LANDSAT_8_OLI_TIRS_20210604_082849_lc2_ang_sen_azimuth_1.tif',\n",
       " 'LANDSAT_8_OLI_TIRS_20210604_082849_lc2_ang_sen_zenith_1.tif',\n",
       " 'LANDSAT_8_OLI_TIRS_20210604_082849_lc2_ang_sol_azimuth_1.tif',\n",
       " 'LANDSAT_8_OLI_TIRS_20210604_082849_lc2_ang_sol_zenith_1.tif',\n",
       " 'LANDSAT_8_OLI_TIRS_20210604_082849_lc2_b10_1.tif',\n",
       " 'LANDSAT_8_OLI_TIRS_20210604_082849_lc2_b11_1.tif',\n",
       " 'LANDSAT_8_OLI_TIRS_20210604_082849_lc2_b1_1.tif',\n",
       " 'LANDSAT_8_OLI_TIRS_20210604_082849_lc2_b2_1.tif',\n",
       " 'LANDSAT_8_OLI_TIRS_20210604_082849_lc2_b3_1.tif',\n",
       " 'LANDSAT_8_OLI_TIRS_20210604_082849_lc2_b4_1.tif',\n",
       " 'LANDSAT_8_OLI_TIRS_20210604_082849_lc2_b5_1.tif',\n",
       " 'LANDSAT_8_OLI_TIRS_20210604_082849_lc2_b6_1.tif',\n",
       " 'LANDSAT_8_OLI_TIRS_20210604_082849_lc2_b7_1.tif',\n",
       " 'LANDSAT_8_OLI_TIRS_20210604_082849_lc2_b8_1.tif',\n",
       " 'LANDSAT_8_OLI_TIRS_20210604_082849_lc2_b9_1.tif',\n",
       " 'LANDSAT_8_OLI_TIRS_20210604_082849_lc2_qa_l1_px_1.tif',\n",
       " 'LANDSAT_8_OLI_TIRS_20210604_082849_lc2_qa_l1_rs_1.tif',\n",
       " 'LANDSAT_8_OLI_TIRS_20210604_082849_source_1.tif',\n",
       " 'LANDSAT_8_OLI_TIRS_20210604_082849_source_pan_1.tif']"
      ]
     },
     "execution_count": 16,
     "metadata": {},
     "output_type": "execute_result"
    }
   ],
   "source": [
    "img_path = os.path.join(HIGH_RES_IMG_DIR, high_res_img_dirs[0])\n",
    "img_filenames = list(filter(lambda x: x.endswith(\".tif\"), os.listdir(img_path)))\n",
    "img_filenames\n"
   ]
  },
  {
   "cell_type": "code",
   "execution_count": 15,
   "metadata": {},
   "outputs": [],
   "source": [
    "bands_filenames = [\n",
    "    \"LANDSAT_8_OLI_TIRS_20210604_082849_lc2_b1_1.tif\",\n",
    "    \"LANDSAT_8_OLI_TIRS_20210604_082849_lc2_b2_1.tif\",\n",
    "    \"LANDSAT_8_OLI_TIRS_20210604_082849_lc2_b3_1.tif\",\n",
    "    \"LANDSAT_8_OLI_TIRS_20210604_082849_lc2_b4_1.tif\",\n",
    "    \"LANDSAT_8_OLI_TIRS_20210604_082849_lc2_b5_1.tif\",\n",
    "    \"LANDSAT_8_OLI_TIRS_20210604_082849_lc2_b6_1.tif\",\n",
    "    \"LANDSAT_8_OLI_TIRS_20210604_082849_lc2_b7_1.tif\",\n",
    "    \"LANDSAT_8_OLI_TIRS_20210604_082849_lc2_b8_1.tif\",\n",
    "    \"LANDSAT_8_OLI_TIRS_20210604_082849_lc2_b9_1.tif\",\n",
    "    \"LANDSAT_8_OLI_TIRS_20210604_082849_lc2_b10_1.tif\",\n",
    "    \"LANDSAT_8_OLI_TIRS_20210604_082849_lc2_b11_1.tif\",\n",
    "]\n"
   ]
  },
  {
   "cell_type": "code",
   "execution_count": 21,
   "metadata": {},
   "outputs": [
    {
     "name": "stdout",
     "output_type": "stream",
     "text": [
      "name: _b1, size: 8091x8171, origin: (320385.0, 6318615.0), pixel size: 30.0x-30.0, rotation: (0.0, 0.0)\n",
      "name: _b2, size: 8091x8171, origin: (320385.0, 6318615.0), pixel size: 30.0x-30.0, rotation: (0.0, 0.0)\n",
      "name: _b3, size: 8091x8171, origin: (320385.0, 6318615.0), pixel size: 30.0x-30.0, rotation: (0.0, 0.0)\n",
      "name: _b4, size: 8091x8171, origin: (320385.0, 6318615.0), pixel size: 30.0x-30.0, rotation: (0.0, 0.0)\n",
      "name: _b5, size: 8091x8171, origin: (320385.0, 6318615.0), pixel size: 30.0x-30.0, rotation: (0.0, 0.0)\n",
      "name: _b6, size: 8091x8171, origin: (320385.0, 6318615.0), pixel size: 30.0x-30.0, rotation: (0.0, 0.0)\n",
      "name: _b7, size: 8091x8171, origin: (320385.0, 6318615.0), pixel size: 30.0x-30.0, rotation: (0.0, 0.0)\n",
      "name: _b8, size: 16181x16341, origin: (320392.5, 6318607.5), pixel size: 15.0x-15.0, rotation: (0.0, 0.0)\n",
      "name: _b9, size: 8091x8171, origin: (320385.0, 6318615.0), pixel size: 30.0x-30.0, rotation: (0.0, 0.0)\n",
      "name: b10, size: 8091x8171, origin: (320385.0, 6318615.0), pixel size: 30.0x-30.0, rotation: (0.0, 0.0)\n",
      "name: b11, size: 8091x8171, origin: (320385.0, 6318615.0), pixel size: 30.0x-30.0, rotation: (0.0, 0.0)\n",
      "CPU times: total: 31.2 ms\n",
      "Wall time: 109 ms\n"
     ]
    }
   ],
   "source": [
    "%%time\n",
    "\n",
    "for band_filename in bands_filenames:\n",
    "    band_path = os.path.join(img_path, band_filename)\n",
    "    band = gdal.Open(band_path, gdal.GA_ReadOnly)\n",
    "    geotransform = band.GetGeoTransform()\n",
    "    name = band_filename[-9:-6]\n",
    "    x_size, y_size = band.RasterXSize, band.RasterYSize\n",
    "    top_left_x, top_left_y = geotransform[0], geotransform[3]\n",
    "    pixel_width, pixel_height = geotransform[1], geotransform[5]\n",
    "    rotation_1, rotation_2 = geotransform[2], geotransform[4]\n",
    "    print(f\"name: {name}, size: {x_size}x{y_size}, origin: ({top_left_x}, {top_left_y}), pixel size: {pixel_width}x{pixel_height}, rotation: ({rotation_1}, {rotation_2})\")"
   ]
  }
 ],
 "metadata": {
  "kernelspec": {
   "display_name": "Python 3.8.7 ('venv': venv)",
   "language": "python",
   "name": "python3"
  },
  "language_info": {
   "codemirror_mode": {
    "name": "ipython",
    "version": 3
   },
   "file_extension": ".py",
   "mimetype": "text/x-python",
   "name": "python",
   "nbconvert_exporter": "python",
   "pygments_lexer": "ipython3",
   "version": "3.8.7"
  },
  "orig_nbformat": 4,
  "vscode": {
   "interpreter": {
    "hash": "69839ed74351436c9400464a143fc6cf3a35efd4111201e6a7d3123caef4de8a"
   }
  }
 },
 "nbformat": 4,
 "nbformat_minor": 2
}
