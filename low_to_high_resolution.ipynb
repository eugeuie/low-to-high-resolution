{
 "cells": [
  {
   "cell_type": "markdown",
   "metadata": {},
   "source": [
    "### main"
   ]
  },
  {
   "cell_type": "code",
   "execution_count": 38,
   "metadata": {},
   "outputs": [],
   "source": [
    "import os\n",
    "import numpy as np\n",
    "import pandas as pd\n",
    "from osgeo import gdal\n",
    "from sklearn.cluster import KMeans\n",
    "\n",
    "SEED = 42"
   ]
  },
  {
   "cell_type": "code",
   "execution_count": 33,
   "metadata": {},
   "outputs": [],
   "source": [
    "IMG_DIR = \"data/images/high_resolution/SENTINEL-2B_MSI_20210511_084252/\"\n",
    "\n",
    "bands_filenames = [\n",
    "    \"SENTINEL-2B_MSI_20210511_084252_channel2_1.tif\",\n",
    "    \"SENTINEL-2B_MSI_20210511_084252_channel3_1.tif\",\n",
    "    \"SENTINEL-2B_MSI_20210511_084252_channel4_1.tif\",\n",
    "    \"SENTINEL-2B_MSI_20210511_084252_channel8_1.tif\",\n",
    "]\n",
    "\n",
    "bands_names = [\"Blue\", \"Green\", \"Red\", \"VNIR\"]"
   ]
  },
  {
   "cell_type": "code",
   "execution_count": 34,
   "metadata": {},
   "outputs": [],
   "source": [
    "data = pd.DataFrame(columns=bands_names)"
   ]
  },
  {
   "cell_type": "code",
   "execution_count": 35,
   "metadata": {},
   "outputs": [
    {
     "name": "stdout",
     "output_type": "stream",
     "text": [
      "CPU times: total: 53.5 s\n",
      "Wall time: 1min 19s\n"
     ]
    }
   ],
   "source": [
    "%%time\n",
    "\n",
    "for band_name, band_filename in zip(bands_names, bands_filenames):\n",
    "    band_path = os.path.join(IMG_DIR, band_filename)\n",
    "    band_img = gdal.Open(band_path, gdal.GA_ReadOnly)\n",
    "\n",
    "    x_size, y_size = band_img.RasterXSize, band_img.RasterYSize\n",
    "\n",
    "    band = band_img.GetRasterBand(1)\n",
    "    band_data = band.ReadAsArray(0, 0, x_size, y_size)\n",
    "\n",
    "    band_col = band_data.ravel()\n",
    "    data[band_name] = band_col\n",
    "\n",
    "    band_img = band = band_col = None"
   ]
  },
  {
   "cell_type": "code",
   "execution_count": 36,
   "metadata": {},
   "outputs": [
    {
     "data": {
      "text/html": [
       "<div>\n",
       "<style scoped>\n",
       "    .dataframe tbody tr th:only-of-type {\n",
       "        vertical-align: middle;\n",
       "    }\n",
       "\n",
       "    .dataframe tbody tr th {\n",
       "        vertical-align: top;\n",
       "    }\n",
       "\n",
       "    .dataframe thead th {\n",
       "        text-align: right;\n",
       "    }\n",
       "</style>\n",
       "<table border=\"1\" class=\"dataframe\">\n",
       "  <thead>\n",
       "    <tr style=\"text-align: right;\">\n",
       "      <th></th>\n",
       "      <th>Blue</th>\n",
       "      <th>Green</th>\n",
       "      <th>Red</th>\n",
       "      <th>VNIR</th>\n",
       "    </tr>\n",
       "  </thead>\n",
       "  <tbody>\n",
       "    <tr>\n",
       "      <th>0</th>\n",
       "      <td>998</td>\n",
       "      <td>750</td>\n",
       "      <td>605</td>\n",
       "      <td>654</td>\n",
       "    </tr>\n",
       "    <tr>\n",
       "      <th>1</th>\n",
       "      <td>1008</td>\n",
       "      <td>746</td>\n",
       "      <td>612</td>\n",
       "      <td>682</td>\n",
       "    </tr>\n",
       "    <tr>\n",
       "      <th>2</th>\n",
       "      <td>1008</td>\n",
       "      <td>758</td>\n",
       "      <td>612</td>\n",
       "      <td>699</td>\n",
       "    </tr>\n",
       "    <tr>\n",
       "      <th>3</th>\n",
       "      <td>1016</td>\n",
       "      <td>748</td>\n",
       "      <td>610</td>\n",
       "      <td>703</td>\n",
       "    </tr>\n",
       "    <tr>\n",
       "      <th>4</th>\n",
       "      <td>1022</td>\n",
       "      <td>765</td>\n",
       "      <td>603</td>\n",
       "      <td>717</td>\n",
       "    </tr>\n",
       "    <tr>\n",
       "      <th>...</th>\n",
       "      <td>...</td>\n",
       "      <td>...</td>\n",
       "      <td>...</td>\n",
       "      <td>...</td>\n",
       "    </tr>\n",
       "    <tr>\n",
       "      <th>120560395</th>\n",
       "      <td>837</td>\n",
       "      <td>628</td>\n",
       "      <td>496</td>\n",
       "      <td>376</td>\n",
       "    </tr>\n",
       "    <tr>\n",
       "      <th>120560396</th>\n",
       "      <td>823</td>\n",
       "      <td>634</td>\n",
       "      <td>496</td>\n",
       "      <td>395</td>\n",
       "    </tr>\n",
       "    <tr>\n",
       "      <th>120560397</th>\n",
       "      <td>819</td>\n",
       "      <td>628</td>\n",
       "      <td>495</td>\n",
       "      <td>399</td>\n",
       "    </tr>\n",
       "    <tr>\n",
       "      <th>120560398</th>\n",
       "      <td>827</td>\n",
       "      <td>626</td>\n",
       "      <td>490</td>\n",
       "      <td>440</td>\n",
       "    </tr>\n",
       "    <tr>\n",
       "      <th>120560399</th>\n",
       "      <td>837</td>\n",
       "      <td>639</td>\n",
       "      <td>510</td>\n",
       "      <td>490</td>\n",
       "    </tr>\n",
       "  </tbody>\n",
       "</table>\n",
       "<p>120560400 rows × 4 columns</p>\n",
       "</div>"
      ],
      "text/plain": [
       "           Blue  Green  Red  VNIR\n",
       "0           998    750  605   654\n",
       "1          1008    746  612   682\n",
       "2          1008    758  612   699\n",
       "3          1016    748  610   703\n",
       "4          1022    765  603   717\n",
       "...         ...    ...  ...   ...\n",
       "120560395   837    628  496   376\n",
       "120560396   823    634  496   395\n",
       "120560397   819    628  495   399\n",
       "120560398   827    626  490   440\n",
       "120560399   837    639  510   490\n",
       "\n",
       "[120560400 rows x 4 columns]"
      ]
     },
     "execution_count": 36,
     "metadata": {},
     "output_type": "execute_result"
    }
   ],
   "source": [
    "data"
   ]
  },
  {
   "cell_type": "code",
   "execution_count": 37,
   "metadata": {},
   "outputs": [
    {
     "name": "stdout",
     "output_type": "stream",
     "text": [
      "CPU times: total: 3min 35s\n",
      "Wall time: 3min 52s\n"
     ]
    }
   ],
   "source": [
    "%%time\n",
    "\n",
    "data.to_csv('data/SENTINEL-2B_MSI_20210511_084252_Blue_Red_Green_VNIR.csv', index=False)"
   ]
  },
  {
   "cell_type": "code",
   "execution_count": 39,
   "metadata": {},
   "outputs": [
    {
     "name": "stdout",
     "output_type": "stream",
     "text": [
      "CPU times: total: 4h 38min 36s\n",
      "Wall time: 5h 15min 1s\n"
     ]
    }
   ],
   "source": [
    "%%time\n",
    "\n",
    "kmeans = KMeans(n_clusters=20, random_state=SEED).fit(data)"
   ]
  },
  {
   "cell_type": "code",
   "execution_count": 40,
   "metadata": {},
   "outputs": [
    {
     "data": {
      "text/plain": [
       "array([3, 3, 3, ..., 9, 9, 9])"
      ]
     },
     "execution_count": 40,
     "metadata": {},
     "output_type": "execute_result"
    }
   ],
   "source": [
    "kmeans.labels_"
   ]
  },
  {
   "cell_type": "code",
   "execution_count": 41,
   "metadata": {},
   "outputs": [
    {
     "name": "stdout",
     "output_type": "stream",
     "text": [
      "CPU times: total: 3min 32s\n",
      "Wall time: 3min 58s\n"
     ]
    }
   ],
   "source": [
    "%%time\n",
    "\n",
    "data.to_csv('data/SENTINEL-2B_MSI_20210511_084252_kmeans_labels_trained_on_Blue_Red_Green_VNIR.csv', index=False)"
   ]
  },
  {
   "cell_type": "code",
   "execution_count": null,
   "metadata": {},
   "outputs": [],
   "source": []
  },
  {
   "cell_type": "code",
   "execution_count": null,
   "metadata": {},
   "outputs": [],
   "source": [
    "[\n",
    "    \"channel2\",\n",
    "    \"channel3\",\n",
    "    \"channel4\",\n",
    "    \"channel8_\",\n",
    "]"
   ]
  },
  {
   "cell_type": "code",
   "execution_count": 12,
   "metadata": {},
   "outputs": [
    {
     "name": "stdout",
     "output_type": "stream",
     "text": [
      "SENTINEL-2B_MSI_20210325_085404 ['SENTINEL-2B_MSI_20210325_085404_channel2_1.tif', 'SENTINEL-2B_MSI_20210325_085404_channel3_1.tif', 'SENTINEL-2B_MSI_20210325_085404_channel4_1.tif', 'SENTINEL-2B_MSI_20210325_085404_channel8_1.tif']\n",
      "SENTINEL-2B_MSI_20190425_085420 ['SENTINEL-2B_MSI_20190425_085420_channel2_1.tif', 'SENTINEL-2B_MSI_20190425_085420_channel3_1.tif', 'SENTINEL-2B_MSI_20190425_085420_channel4_1.tif', 'SENTINEL-2B_MSI_20190425_085420_channel8_1.tif']\n",
      "SENTINEL-2B_MSI_20210511_084252 ['SENTINEL-2B_MSI_20210511_084252_channel2_1.tif', 'SENTINEL-2B_MSI_20210511_084252_channel3_1.tif', 'SENTINEL-2B_MSI_20210511_084252_channel4_1.tif', 'SENTINEL-2B_MSI_20210511_084252_channel8_1.tif']\n",
      "SENTINEL-2B_MSI_20211008_084414 ['SENTINEL-2B_MSI_20211008_084414_channel2_1.tif', 'SENTINEL-2B_MSI_20211008_084414_channel3_1.tif', 'SENTINEL-2B_MSI_20211008_084414_channel4_1.tif', 'SENTINEL-2B_MSI_20211008_084414_channel8_1.tif']\n",
      "SENTINEL-2A_MSI_20201117_084357 ['SENTINEL-2A_MSI_20201117_084357_channel2_1.tif', 'SENTINEL-2A_MSI_20201117_084357_channel3_1.tif', 'SENTINEL-2A_MSI_20201117_084357_channel4_1.tif', 'SENTINEL-2A_MSI_20201117_084357_channel8_1.tif']\n"
     ]
    }
   ],
   "source": [
    "for img in sentinel_imgs:\n",
    "    img_path = os.path.join(HIGH_RES_IMG_DIR, img)\n",
    "    bands_filenames = list(filter(lambda x: any(band_name in x for band_name in bands_names), os.listdir(img_path)))\n",
    "    print(img, bands_filenames)"
   ]
  },
  {
   "cell_type": "code",
   "execution_count": null,
   "metadata": {},
   "outputs": [],
   "source": []
  },
  {
   "cell_type": "code",
   "execution_count": 2,
   "metadata": {},
   "outputs": [],
   "source": [
    "DATA_DIR = \"data/\"\n",
    "IMG_DIR = \"data/images/\"\n",
    "LOW_RES_IMG_DIR = \"data/images/low_resolution/\"\n",
    "HIGH_RES_IMG_DIR = \"data/images/high_resolution/\"\n",
    "\n",
    "sentinel_imgs = [\n",
    "    \"SENTINEL-2B_MSI_20210325_085404\",\n",
    "    \"SENTINEL-2B_MSI_20190425_085420\",\n",
    "    \"SENTINEL-2B_MSI_20210511_084252\",\n",
    "    \"SENTINEL-2B_MSI_20211008_084414\",\n",
    "    \"SENTINEL-2A_MSI_20201117_084357\",\n",
    "]\n",
    "\n",
    "bands_names = [\n",
    "    \"channel2\",\n",
    "    \"channel3\",\n",
    "    \"channel4\",\n",
    "    \"channel8_\",\n",
    "]"
   ]
  },
  {
   "cell_type": "code",
   "execution_count": null,
   "metadata": {},
   "outputs": [],
   "source": [
    "%%time\n",
    "\n",
    "for band_filename in bands_filenames:\n",
    "    band_path = os.path.join(img_path, band_filename)\n",
    "    band = gdal.Open(band_path, gdal.GA_ReadOnly)\n",
    "    geotransform = band.GetGeoTransform()\n",
    "    name = band_filename[-9:-6]\n",
    "    x_size, y_size = band.RasterXSize, band.RasterYSize\n",
    "    top_left_x, top_left_y = geotransform[0], geotransform[3]\n",
    "    pixel_width, pixel_height = geotransform[1], geotransform[5]\n",
    "    rotation_1, rotation_2 = geotransform[2], geotransform[4]\n",
    "    print(f\"name: {name}, size: {x_size}x{y_size}, origin: ({top_left_x}, {top_left_y}), pixel size: {pixel_width}x{pixel_height}, rotation: ({rotation_1}, {rotation_2})\")"
   ]
  },
  {
   "cell_type": "markdown",
   "metadata": {},
   "source": [
    "### auxiliary"
   ]
  },
  {
   "cell_type": "code",
   "execution_count": 5,
   "metadata": {},
   "outputs": [
    {
     "data": {
      "text/plain": [
       "['LANDSAT_8_OLI_TIRS_20210604_082849',\n",
       " 'LANDSAT_8_OLI_TIRS_20210706_082857',\n",
       " 'SENTINEL-2A_MSI_20200901_053433',\n",
       " 'SENTINEL-2A_MSI_20200921_053434',\n",
       " 'SENTINEL-2A_MSI_20201117_084357',\n",
       " 'SENTINEL-2A_MSI_20210327_052418',\n",
       " 'SENTINEL-2A_MSI_20220524_053423',\n",
       " 'SENTINEL-2B_MSI_20190425_085420',\n",
       " 'SENTINEL-2B_MSI_20190813_053920',\n",
       " 'SENTINEL-2B_MSI_20210325_085404',\n",
       " 'SENTINEL-2B_MSI_20210511_084252',\n",
       " 'SENTINEL-2B_MSI_20210531_052344',\n",
       " 'SENTINEL-2B_MSI_20210703_053405',\n",
       " 'SENTINEL-2B_MSI_20211008_084414']"
      ]
     },
     "execution_count": 5,
     "metadata": {},
     "output_type": "execute_result"
    }
   ],
   "source": [
    "os.listdir(HIGH_RES_IMG_DIR)"
   ]
  },
  {
   "cell_type": "code",
   "execution_count": 6,
   "metadata": {},
   "outputs": [
    {
     "data": {
      "text/plain": [
       "['2010-05-01.img',\n",
       " '2010-05-02.img',\n",
       " '2010-05-03.img',\n",
       " '2010-07-01.img',\n",
       " '2010-07-02.img',\n",
       " '2010-07-03.img',\n",
       " '2010-09-01.img',\n",
       " '2010-09-02.img',\n",
       " '2010-09-03.img',\n",
       " 'lccswm2010_4.img',\n",
       " 'priv_mod_v10_2011layer1.img',\n",
       " 'priv_mod_v10_2011layer2.img']"
      ]
     },
     "execution_count": 6,
     "metadata": {},
     "output_type": "execute_result"
    }
   ],
   "source": [
    "list(filter(lambda x: x.endswith('.img'), os.listdir(LOW_RES_IMG_DIR)))"
   ]
  },
  {
   "cell_type": "code",
   "execution_count": 16,
   "metadata": {},
   "outputs": [
    {
     "data": {
      "text/plain": [
       "['LANDSAT_8_OLI_TIRS_20210604_082849_lc2_ang_sen_azimuth_1.tif',\n",
       " 'LANDSAT_8_OLI_TIRS_20210604_082849_lc2_ang_sen_zenith_1.tif',\n",
       " 'LANDSAT_8_OLI_TIRS_20210604_082849_lc2_ang_sol_azimuth_1.tif',\n",
       " 'LANDSAT_8_OLI_TIRS_20210604_082849_lc2_ang_sol_zenith_1.tif',\n",
       " 'LANDSAT_8_OLI_TIRS_20210604_082849_lc2_b10_1.tif',\n",
       " 'LANDSAT_8_OLI_TIRS_20210604_082849_lc2_b11_1.tif',\n",
       " 'LANDSAT_8_OLI_TIRS_20210604_082849_lc2_b1_1.tif',\n",
       " 'LANDSAT_8_OLI_TIRS_20210604_082849_lc2_b2_1.tif',\n",
       " 'LANDSAT_8_OLI_TIRS_20210604_082849_lc2_b3_1.tif',\n",
       " 'LANDSAT_8_OLI_TIRS_20210604_082849_lc2_b4_1.tif',\n",
       " 'LANDSAT_8_OLI_TIRS_20210604_082849_lc2_b5_1.tif',\n",
       " 'LANDSAT_8_OLI_TIRS_20210604_082849_lc2_b6_1.tif',\n",
       " 'LANDSAT_8_OLI_TIRS_20210604_082849_lc2_b7_1.tif',\n",
       " 'LANDSAT_8_OLI_TIRS_20210604_082849_lc2_b8_1.tif',\n",
       " 'LANDSAT_8_OLI_TIRS_20210604_082849_lc2_b9_1.tif',\n",
       " 'LANDSAT_8_OLI_TIRS_20210604_082849_lc2_qa_l1_px_1.tif',\n",
       " 'LANDSAT_8_OLI_TIRS_20210604_082849_lc2_qa_l1_rs_1.tif',\n",
       " 'LANDSAT_8_OLI_TIRS_20210604_082849_source_1.tif',\n",
       " 'LANDSAT_8_OLI_TIRS_20210604_082849_source_pan_1.tif']"
      ]
     },
     "execution_count": 16,
     "metadata": {},
     "output_type": "execute_result"
    }
   ],
   "source": [
    "img_path = os.path.join(HIGH_RES_IMG_DIR, high_res_img_dirs[0])\n",
    "img_filenames = list(filter(lambda x: x.endswith('.tif'), os.listdir(img_path)))\n",
    "img_filenames"
   ]
  },
  {
   "cell_type": "code",
   "execution_count": 15,
   "metadata": {},
   "outputs": [],
   "source": [
    "bands_filenames = [\n",
    "    \"LANDSAT_8_OLI_TIRS_20210604_082849_lc2_b1_1.tif\",\n",
    "    \"LANDSAT_8_OLI_TIRS_20210604_082849_lc2_b2_1.tif\",\n",
    "    \"LANDSAT_8_OLI_TIRS_20210604_082849_lc2_b3_1.tif\",\n",
    "    \"LANDSAT_8_OLI_TIRS_20210604_082849_lc2_b4_1.tif\",\n",
    "    \"LANDSAT_8_OLI_TIRS_20210604_082849_lc2_b5_1.tif\",\n",
    "    \"LANDSAT_8_OLI_TIRS_20210604_082849_lc2_b6_1.tif\",\n",
    "    \"LANDSAT_8_OLI_TIRS_20210604_082849_lc2_b7_1.tif\",\n",
    "    \"LANDSAT_8_OLI_TIRS_20210604_082849_lc2_b8_1.tif\",\n",
    "    \"LANDSAT_8_OLI_TIRS_20210604_082849_lc2_b9_1.tif\",\n",
    "    \"LANDSAT_8_OLI_TIRS_20210604_082849_lc2_b10_1.tif\",\n",
    "    \"LANDSAT_8_OLI_TIRS_20210604_082849_lc2_b11_1.tif\",\n",
    "]"
   ]
  },
  {
   "cell_type": "code",
   "execution_count": 21,
   "metadata": {},
   "outputs": [
    {
     "name": "stdout",
     "output_type": "stream",
     "text": [
      "name: _b1, size: 8091x8171, origin: (320385.0, 6318615.0), pixel size: 30.0x-30.0, rotation: (0.0, 0.0)\n",
      "name: _b2, size: 8091x8171, origin: (320385.0, 6318615.0), pixel size: 30.0x-30.0, rotation: (0.0, 0.0)\n",
      "name: _b3, size: 8091x8171, origin: (320385.0, 6318615.0), pixel size: 30.0x-30.0, rotation: (0.0, 0.0)\n",
      "name: _b4, size: 8091x8171, origin: (320385.0, 6318615.0), pixel size: 30.0x-30.0, rotation: (0.0, 0.0)\n",
      "name: _b5, size: 8091x8171, origin: (320385.0, 6318615.0), pixel size: 30.0x-30.0, rotation: (0.0, 0.0)\n",
      "name: _b6, size: 8091x8171, origin: (320385.0, 6318615.0), pixel size: 30.0x-30.0, rotation: (0.0, 0.0)\n",
      "name: _b7, size: 8091x8171, origin: (320385.0, 6318615.0), pixel size: 30.0x-30.0, rotation: (0.0, 0.0)\n",
      "name: _b8, size: 16181x16341, origin: (320392.5, 6318607.5), pixel size: 15.0x-15.0, rotation: (0.0, 0.0)\n",
      "name: _b9, size: 8091x8171, origin: (320385.0, 6318615.0), pixel size: 30.0x-30.0, rotation: (0.0, 0.0)\n",
      "name: b10, size: 8091x8171, origin: (320385.0, 6318615.0), pixel size: 30.0x-30.0, rotation: (0.0, 0.0)\n",
      "name: b11, size: 8091x8171, origin: (320385.0, 6318615.0), pixel size: 30.0x-30.0, rotation: (0.0, 0.0)\n",
      "CPU times: total: 31.2 ms\n",
      "Wall time: 109 ms\n"
     ]
    }
   ],
   "source": [
    "%%time\n",
    "\n",
    "for band_filename in bands_filenames:\n",
    "    band_path = os.path.join(img_path, band_filename)\n",
    "    band = gdal.Open(band_path, gdal.GA_ReadOnly)\n",
    "    geotransform = band.GetGeoTransform()\n",
    "    name = band_filename[-9:-6]\n",
    "    x_size, y_size = band.RasterXSize, band.RasterYSize\n",
    "    top_left_x, top_left_y = geotransform[0], geotransform[3]\n",
    "    pixel_width, pixel_height = geotransform[1], geotransform[5]\n",
    "    rotation_1, rotation_2 = geotransform[2], geotransform[4]\n",
    "    print(f\"name: {name}, size: {x_size}x{y_size}, origin: ({top_left_x}, {top_left_y}), pixel size: {pixel_width}x{pixel_height}, rotation: ({rotation_1}, {rotation_2})\")"
   ]
  }
 ],
 "metadata": {
  "kernelspec": {
   "display_name": "Python 3.8.7 ('venv': venv)",
   "language": "python",
   "name": "python3"
  },
  "language_info": {
   "codemirror_mode": {
    "name": "ipython",
    "version": 3
   },
   "file_extension": ".py",
   "mimetype": "text/x-python",
   "name": "python",
   "nbconvert_exporter": "python",
   "pygments_lexer": "ipython3",
   "version": "3.8.7"
  },
  "orig_nbformat": 4,
  "vscode": {
   "interpreter": {
    "hash": "69839ed74351436c9400464a143fc6cf3a35efd4111201e6a7d3123caef4de8a"
   }
  }
 },
 "nbformat": 4,
 "nbformat_minor": 2
}
