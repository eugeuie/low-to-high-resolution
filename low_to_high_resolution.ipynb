{
 "cells": [
  {
   "cell_type": "code",
   "execution_count": 9,
   "metadata": {},
   "outputs": [],
   "source": [
    "import os\n",
    "import numpy as np\n",
    "import pandas as pd\n",
    "from osgeo import gdal\n",
    "from sklearn.cluster import KMeans"
   ]
  },
  {
   "cell_type": "code",
   "execution_count": 10,
   "metadata": {},
   "outputs": [],
   "source": [
    "DATA_DIR = \"data/\"\n",
    "IMG_DIR = \"data/images/\"\n",
    "LOW_RES_IMG_DIR = \"data/images/low_resolution/\"\n",
    "HIGH_RES_IMG_DIR = \"data/images/high_resolution/\"\n"
   ]
  },
  {
   "cell_type": "code",
   "execution_count": 11,
   "metadata": {},
   "outputs": [
    {
     "data": {
      "text/plain": [
       "['LANDSAT_8_OLI_TIRS_20210604_082849',\n",
       " 'LANDSAT_8_OLI_TIRS_20210706_082857',\n",
       " 'SENTINEL-2A_MSI_20200901_053433',\n",
       " 'SENTINEL-2A_MSI_20200921_053434',\n",
       " 'SENTINEL-2A_MSI_20201117_084357',\n",
       " 'SENTINEL-2A_MSI_20210327_052418',\n",
       " 'SENTINEL-2A_MSI_20220524_053423',\n",
       " 'SENTINEL-2B_MSI_20190425_085420',\n",
       " 'SENTINEL-2B_MSI_20190813_053920',\n",
       " 'SENTINEL-2B_MSI_20210325_085404',\n",
       " 'SENTINEL-2B_MSI_20210511_084252',\n",
       " 'SENTINEL-2B_MSI_20210531_052344',\n",
       " 'SENTINEL-2B_MSI_20210703_053405',\n",
       " 'SENTINEL-2B_MSI_20211008_084414']"
      ]
     },
     "execution_count": 11,
     "metadata": {},
     "output_type": "execute_result"
    }
   ],
   "source": [
    "high_res_img_dirs = os.listdir(HIGH_RES_IMG_DIR)\n",
    "high_res_img_dirs"
   ]
  },
  {
   "cell_type": "code",
   "execution_count": 13,
   "metadata": {},
   "outputs": [
    {
     "data": {
      "text/plain": [
       "['2010-05-01.img',\n",
       " '2010-05-02.img',\n",
       " '2010-05-03.img',\n",
       " '2010-07-01.img',\n",
       " '2010-07-02.img',\n",
       " '2010-07-03.img',\n",
       " '2010-09-01.img',\n",
       " '2010-09-02.img',\n",
       " '2010-09-03.img',\n",
       " 'lccswm2010_4.img',\n",
       " 'priv_mod_v10_2011layer1.img',\n",
       " 'priv_mod_v10_2011layer2.img']"
      ]
     },
     "execution_count": 13,
     "metadata": {},
     "output_type": "execute_result"
    }
   ],
   "source": [
    "low_res_img_files = list(filter(lambda x: x.endswith('.img'), os.listdir(LOW_RES_IMG_DIR)))\n",
    "low_res_img_files"
   ]
  },
  {
   "cell_type": "code",
   "execution_count": 16,
   "metadata": {},
   "outputs": [
    {
     "data": {
      "text/plain": [
       "['LANDSAT_8_OLI_TIRS_20210604_082849_lc2_ang_sen_azimuth_1.tif',\n",
       " 'LANDSAT_8_OLI_TIRS_20210604_082849_lc2_ang_sen_zenith_1.tif',\n",
       " 'LANDSAT_8_OLI_TIRS_20210604_082849_lc2_ang_sol_azimuth_1.tif',\n",
       " 'LANDSAT_8_OLI_TIRS_20210604_082849_lc2_ang_sol_zenith_1.tif',\n",
       " 'LANDSAT_8_OLI_TIRS_20210604_082849_lc2_b10_1.tif',\n",
       " 'LANDSAT_8_OLI_TIRS_20210604_082849_lc2_b11_1.tif',\n",
       " 'LANDSAT_8_OLI_TIRS_20210604_082849_lc2_b1_1.tif',\n",
       " 'LANDSAT_8_OLI_TIRS_20210604_082849_lc2_b2_1.tif',\n",
       " 'LANDSAT_8_OLI_TIRS_20210604_082849_lc2_b3_1.tif',\n",
       " 'LANDSAT_8_OLI_TIRS_20210604_082849_lc2_b4_1.tif',\n",
       " 'LANDSAT_8_OLI_TIRS_20210604_082849_lc2_b5_1.tif',\n",
       " 'LANDSAT_8_OLI_TIRS_20210604_082849_lc2_b6_1.tif',\n",
       " 'LANDSAT_8_OLI_TIRS_20210604_082849_lc2_b7_1.tif',\n",
       " 'LANDSAT_8_OLI_TIRS_20210604_082849_lc2_b8_1.tif',\n",
       " 'LANDSAT_8_OLI_TIRS_20210604_082849_lc2_b9_1.tif',\n",
       " 'LANDSAT_8_OLI_TIRS_20210604_082849_lc2_qa_l1_px_1.tif',\n",
       " 'LANDSAT_8_OLI_TIRS_20210604_082849_lc2_qa_l1_rs_1.tif',\n",
       " 'LANDSAT_8_OLI_TIRS_20210604_082849_source_1.tif',\n",
       " 'LANDSAT_8_OLI_TIRS_20210604_082849_source_pan_1.tif']"
      ]
     },
     "execution_count": 16,
     "metadata": {},
     "output_type": "execute_result"
    }
   ],
   "source": [
    "img_path = os.path.join(HIGH_RES_IMG_DIR, high_res_img_dirs[0])\n",
    "img_filenames = list(filter(lambda x: x.endswith('.tif'), os.listdir(img_path)))\n",
    "img_filenames"
   ]
  },
  {
   "cell_type": "code",
   "execution_count": 15,
   "metadata": {},
   "outputs": [],
   "source": [
    "bands_filenames = [\n",
    "    \"LANDSAT_8_OLI_TIRS_20210604_082849_lc2_b1_1.tif\",\n",
    "    \"LANDSAT_8_OLI_TIRS_20210604_082849_lc2_b2_1.tif\",\n",
    "    \"LANDSAT_8_OLI_TIRS_20210604_082849_lc2_b3_1.tif\",\n",
    "    \"LANDSAT_8_OLI_TIRS_20210604_082849_lc2_b4_1.tif\",\n",
    "    \"LANDSAT_8_OLI_TIRS_20210604_082849_lc2_b5_1.tif\",\n",
    "    \"LANDSAT_8_OLI_TIRS_20210604_082849_lc2_b6_1.tif\",\n",
    "    \"LANDSAT_8_OLI_TIRS_20210604_082849_lc2_b7_1.tif\",\n",
    "    \"LANDSAT_8_OLI_TIRS_20210604_082849_lc2_b8_1.tif\",\n",
    "    \"LANDSAT_8_OLI_TIRS_20210604_082849_lc2_b9_1.tif\",\n",
    "    \"LANDSAT_8_OLI_TIRS_20210604_082849_lc2_b10_1.tif\",\n",
    "    \"LANDSAT_8_OLI_TIRS_20210604_082849_lc2_b11_1.tif\",\n",
    "]"
   ]
  },
  {
   "cell_type": "code",
   "execution_count": 21,
   "metadata": {},
   "outputs": [
    {
     "name": "stdout",
     "output_type": "stream",
     "text": [
      "name: _b1, size: 8091x8171, origin: (320385.0, 6318615.0), pixel size: 30.0x-30.0, rotation: (0.0, 0.0)\n",
      "name: _b2, size: 8091x8171, origin: (320385.0, 6318615.0), pixel size: 30.0x-30.0, rotation: (0.0, 0.0)\n",
      "name: _b3, size: 8091x8171, origin: (320385.0, 6318615.0), pixel size: 30.0x-30.0, rotation: (0.0, 0.0)\n",
      "name: _b4, size: 8091x8171, origin: (320385.0, 6318615.0), pixel size: 30.0x-30.0, rotation: (0.0, 0.0)\n",
      "name: _b5, size: 8091x8171, origin: (320385.0, 6318615.0), pixel size: 30.0x-30.0, rotation: (0.0, 0.0)\n",
      "name: _b6, size: 8091x8171, origin: (320385.0, 6318615.0), pixel size: 30.0x-30.0, rotation: (0.0, 0.0)\n",
      "name: _b7, size: 8091x8171, origin: (320385.0, 6318615.0), pixel size: 30.0x-30.0, rotation: (0.0, 0.0)\n",
      "name: _b8, size: 16181x16341, origin: (320392.5, 6318607.5), pixel size: 15.0x-15.0, rotation: (0.0, 0.0)\n",
      "name: _b9, size: 8091x8171, origin: (320385.0, 6318615.0), pixel size: 30.0x-30.0, rotation: (0.0, 0.0)\n",
      "name: b10, size: 8091x8171, origin: (320385.0, 6318615.0), pixel size: 30.0x-30.0, rotation: (0.0, 0.0)\n",
      "name: b11, size: 8091x8171, origin: (320385.0, 6318615.0), pixel size: 30.0x-30.0, rotation: (0.0, 0.0)\n",
      "CPU times: total: 31.2 ms\n",
      "Wall time: 109 ms\n"
     ]
    }
   ],
   "source": [
    "%%time\n",
    "\n",
    "for band_filename in bands_filenames:\n",
    "    band_path = os.path.join(img_path, band_filename)\n",
    "    band = gdal.Open(band_path, gdal.GA_ReadOnly)\n",
    "    geotransform = band.GetGeoTransform()\n",
    "    name = band_filename[-9:-6]\n",
    "    x_size, y_size = band.RasterXSize, band.RasterYSize\n",
    "    top_left_x, top_left_y = geotransform[0], geotransform[3]\n",
    "    pixel_width, pixel_height = geotransform[1], geotransform[5]\n",
    "    rotation_1, rotation_2 = geotransform[2], geotransform[4]\n",
    "    print(f\"name: {name}, size: {x_size}x{y_size}, origin: ({top_left_x}, {top_left_y}), pixel size: {pixel_width}x{pixel_height}, rotation: ({rotation_1}, {rotation_2})\")"
   ]
  }
 ],
 "metadata": {
  "kernelspec": {
   "display_name": "Python 3.8.7 ('venv': venv)",
   "language": "python",
   "name": "python3"
  },
  "language_info": {
   "codemirror_mode": {
    "name": "ipython",
    "version": 3
   },
   "file_extension": ".py",
   "mimetype": "text/x-python",
   "name": "python",
   "nbconvert_exporter": "python",
   "pygments_lexer": "ipython3",
   "version": "3.8.7"
  },
  "orig_nbformat": 4,
  "vscode": {
   "interpreter": {
    "hash": "aff50b237f9b637f35bb7673477fdcf0b07bc074035d49546e52e192388d0eb1"
   }
  }
 },
 "nbformat": 4,
 "nbformat_minor": 2
}
