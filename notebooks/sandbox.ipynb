{
 "cells": [
  {
   "cell_type": "code",
   "execution_count": 22,
   "metadata": {},
   "outputs": [],
   "source": [
    "import os, sys\n",
    "import numpy as np\n",
    "import pandas as pd\n",
    "import matplotlib.pyplot as plt\n",
    "from importlib import reload\n",
    "\n",
    "BASE_DIR = os.path.abspath(\"../\")\n",
    "if BASE_DIR not in sys.path:\n",
    "    sys.path.append(BASE_DIR)\n",
    "\n",
    "from src import config, utils, image, clustering, main\n",
    "\n",
    "custom_modules = [module for name, module in sys.modules.items() if name.startswith('src.')]\n",
    "\n",
    "for custom_module in custom_modules:\n",
    "    reload(custom_module)"
   ]
  },
  {
   "cell_type": "code",
   "execution_count": null,
   "metadata": {},
   "outputs": [],
   "source": [
    "image.reproject(config.temp_img_path, config.sentinel_10m_bands_input_paths[\"Blue\"], config.modis_sample_input_path)"
   ]
  }
 ],
 "metadata": {
  "language_info": {
   "name": "python"
  },
  "orig_nbformat": 4
 },
 "nbformat": 4,
 "nbformat_minor": 2
}
